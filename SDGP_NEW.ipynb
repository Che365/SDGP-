{
  "nbformat": 4,
  "nbformat_minor": 0,
  "metadata": {
    "colab": {
      "provenance": [],
      "authorship_tag": "ABX9TyMtOkcDZudzV94YCtAQW2o0",
      "include_colab_link": true
    },
    "kernelspec": {
      "name": "python3",
      "display_name": "Python 3"
    },
    "language_info": {
      "name": "python"
    }
  },
  "cells": [
    {
      "cell_type": "markdown",
      "metadata": {
        "id": "view-in-github",
        "colab_type": "text"
      },
      "source": [
        "<a href=\"https://colab.research.google.com/github/Che365/SDGP-/blob/Backend/SDGP_NEW.ipynb\" target=\"_parent\"><img src=\"https://colab.research.google.com/assets/colab-badge.svg\" alt=\"Open In Colab\"/></a>"
      ]
    },
    {
      "cell_type": "code",
      "execution_count": null,
      "metadata": {
        "colab": {
          "base_uri": "https://localhost:8080/"
        },
        "id": "7d5GbDqv5411",
        "outputId": "8e553790-b64c-424d-9e14-14fc038bcd45"
      },
      "outputs": [
        {
          "output_type": "stream",
          "name": "stdout",
          "text": [
            "Mounted at /content/drive/\n"
          ]
        }
      ],
      "source": [
        "from google.colab import drive\n",
        "drive.mount('/content/drive/')"
      ]
    },
    {
      "cell_type": "code",
      "source": [
        "import os\n",
        "import numpy as np\n",
        "import tensorflow as tf\n",
        "from tensorflow.keras.models import Sequential\n",
        "from tensorflow.keras.layers import Conv2D, MaxPooling2D, Flatten, Dense\n",
        "from tensorflow.keras.preprocessing.image import ImageDataGenerator\n",
        "from sklearn.model_selection import train_test_split"
      ],
      "metadata": {
        "id": "9ZW6KtU26nT7"
      },
      "execution_count": null,
      "outputs": []
    },
    {
      "cell_type": "code",
      "source": [
        "# Defining Categories\n",
        "Categories = ['Caterpillar', 'Diabrotica speciosa', 'Healthy']\n",
        "img_size = 50"
      ],
      "metadata": {
        "id": "5USLYArK96BK"
      },
      "execution_count": null,
      "outputs": []
    },
    {
      "cell_type": "code",
      "source": [
        "# Going through images and preporocessing\n",
        "datadir = '/content/drive/MyDrive/SDGP Dataset'\n",
        "data = []\n",
        "for category in Categories:\n",
        "    path = os.path.join(datadir, category)\n",
        "    class_num = Categories.index(category)\n",
        "    for img in os.listdir(path):\n",
        "        try:\n",
        "            img_array = tf.keras.preprocessing.image.load_img(os.path.join(path, img), target_size=(img_size, img_size))\n",
        "            img_array = tf.keras.preprocessing.image.img_to_array(img_array)\n",
        "            data.append([img_array, class_num])\n",
        "        except Exception as e:\n",
        "            print(f\"Error processing {os.path.join(path, img)}: {str(e)}\")"
      ],
      "metadata": {
        "id": "Qj-dXX3l-RW6"
      },
      "execution_count": null,
      "outputs": []
    },
    {
      "cell_type": "code",
      "source": [
        "X = np.array([item[0] for item in data])\n",
        "y = np.array([item[1] for item in data])\n",
        "\n",
        "# Normalize the pixel values\n",
        "X = X / 255.0"
      ],
      "metadata": {
        "id": "pggsQMQ-Ezq7"
      },
      "execution_count": null,
      "outputs": []
    },
    {
      "cell_type": "code",
      "source": [
        "X_train, X_test, y_train, y_test = train_test_split(X, y, test_size=0.2, random_state=49)"
      ],
      "metadata": {
        "id": "yS1vbIb7F0jD"
      },
      "execution_count": null,
      "outputs": []
    },
    {
      "cell_type": "code",
      "source": [
        "model = Sequential([\n",
        "    Conv2D(32, (3, 3), activation='relu', input_shape=(img_size, img_size, 3)),\n",
        "    MaxPooling2D((2, 2)),\n",
        "    Conv2D(64, (3, 3), activation='relu'),\n",
        "    MaxPooling2D((2, 2)),\n",
        "    Flatten(),\n",
        "    Dense(64, activation='relu'),\n",
        "    Dense(len(Categories), activation='softmax')\n",
        "])"
      ],
      "metadata": {
        "id": "9XWsSoEtc6oY"
      },
      "execution_count": null,
      "outputs": []
    },
    {
      "cell_type": "code",
      "source": [
        "# Comfiguring  the model\n",
        "model.compile(optimizer='adam',\n",
        "              loss='sparse_categorical_crossentropy',\n",
        "              metrics=['accuracy'])\n",
        "\n",
        "# Training  the model\n",
        "model.fit(X_train, y_train, epochs=20, validation_data=(X_test, y_test))"
      ],
      "metadata": {
        "colab": {
          "base_uri": "https://localhost:8080/"
        },
        "id": "gkHVGMRBc8Jg",
        "outputId": "d528f3e2-886d-4ea9-9935-530c2b2e3745"
      },
      "execution_count": null,
      "outputs": [
        {
          "output_type": "stream",
          "name": "stdout",
          "text": [
            "Epoch 1/20\n",
            "161/161 [==============================] - 22s 124ms/step - loss: 0.9274 - accuracy: 0.5620 - val_loss: 0.8535 - val_accuracy: 0.6373\n",
            "Epoch 2/20\n",
            "161/161 [==============================] - 18s 109ms/step - loss: 0.8158 - accuracy: 0.6525 - val_loss: 0.7332 - val_accuracy: 0.7005\n",
            "Epoch 3/20\n",
            "161/161 [==============================] - 18s 112ms/step - loss: 0.7370 - accuracy: 0.6825 - val_loss: 0.7094 - val_accuracy: 0.7067\n",
            "Epoch 4/20\n",
            "161/161 [==============================] - 20s 122ms/step - loss: 0.6707 - accuracy: 0.7155 - val_loss: 0.6660 - val_accuracy: 0.7340\n",
            "Epoch 5/20\n",
            "161/161 [==============================] - 18s 114ms/step - loss: 0.5947 - accuracy: 0.7520 - val_loss: 0.8114 - val_accuracy: 0.6654\n",
            "Epoch 6/20\n",
            "161/161 [==============================] - 18s 112ms/step - loss: 0.5420 - accuracy: 0.7843 - val_loss: 0.6543 - val_accuracy: 0.7176\n",
            "Epoch 7/20\n",
            "161/161 [==============================] - 21s 129ms/step - loss: 0.4436 - accuracy: 0.8276 - val_loss: 0.6162 - val_accuracy: 0.7457\n",
            "Epoch 8/20\n",
            "161/161 [==============================] - 20s 125ms/step - loss: 0.3708 - accuracy: 0.8625 - val_loss: 0.6303 - val_accuracy: 0.7582\n",
            "Epoch 9/20\n",
            "161/161 [==============================] - 18s 113ms/step - loss: 0.3100 - accuracy: 0.8885 - val_loss: 0.6679 - val_accuracy: 0.7527\n",
            "Epoch 10/20\n",
            "161/161 [==============================] - 18s 114ms/step - loss: 0.2480 - accuracy: 0.9085 - val_loss: 0.6684 - val_accuracy: 0.7605\n",
            "Epoch 11/20\n",
            "161/161 [==============================] - 18s 111ms/step - loss: 0.1777 - accuracy: 0.9374 - val_loss: 0.7663 - val_accuracy: 0.7637\n",
            "Epoch 12/20\n",
            "161/161 [==============================] - 19s 120ms/step - loss: 0.1385 - accuracy: 0.9551 - val_loss: 0.8044 - val_accuracy: 0.7496\n",
            "Epoch 13/20\n",
            "161/161 [==============================] - 18s 113ms/step - loss: 0.1350 - accuracy: 0.9530 - val_loss: 0.8406 - val_accuracy: 0.7520\n",
            "Epoch 14/20\n",
            "161/161 [==============================] - 17s 108ms/step - loss: 0.0843 - accuracy: 0.9766 - val_loss: 0.8851 - val_accuracy: 0.7644\n",
            "Epoch 15/20\n",
            "161/161 [==============================] - 18s 112ms/step - loss: 0.0673 - accuracy: 0.9793 - val_loss: 1.0356 - val_accuracy: 0.7231\n",
            "Epoch 16/20\n",
            "161/161 [==============================] - 19s 117ms/step - loss: 0.0575 - accuracy: 0.9846 - val_loss: 1.0313 - val_accuracy: 0.7520\n",
            "Epoch 17/20\n",
            "161/161 [==============================] - 18s 112ms/step - loss: 0.0381 - accuracy: 0.9889 - val_loss: 1.0582 - val_accuracy: 0.7574\n",
            "Epoch 18/20\n",
            "161/161 [==============================] - 18s 111ms/step - loss: 0.0329 - accuracy: 0.9914 - val_loss: 1.1216 - val_accuracy: 0.7504\n",
            "Epoch 19/20\n",
            "161/161 [==============================] - 18s 111ms/step - loss: 0.0553 - accuracy: 0.9815 - val_loss: 1.3628 - val_accuracy: 0.7239\n",
            "Epoch 20/20\n",
            "161/161 [==============================] - 19s 118ms/step - loss: 0.0379 - accuracy: 0.9920 - val_loss: 1.2260 - val_accuracy: 0.7504\n"
          ]
        },
        {
          "output_type": "execute_result",
          "data": {
            "text/plain": [
              "<keras.src.callbacks.History at 0x7d1eac575a50>"
            ]
          },
          "metadata": {},
          "execution_count": 9
        }
      ]
    },
    {
      "cell_type": "code",
      "source": [
        "loss, accuracy = model.evaluate(X_test, y_test)\n",
        "print(f\"Test accuracy: {accuracy}\")"
      ],
      "metadata": {
        "colab": {
          "base_uri": "https://localhost:8080/"
        },
        "id": "1FCrFuF6dAic",
        "outputId": "be17855e-4e0f-4569-e637-2fa06456b1b3"
      },
      "execution_count": null,
      "outputs": [
        {
          "output_type": "stream",
          "name": "stdout",
          "text": [
            "41/41 [==============================] - 1s 25ms/step - loss: 1.2260 - accuracy: 0.7504\n",
            "Test accuracy: 0.7503899931907654\n"
          ]
        }
      ]
    },
    {
      "cell_type": "code",
      "source": [
        "model.save('trained_model.h5')"
      ],
      "metadata": {
        "colab": {
          "base_uri": "https://localhost:8080/"
        },
        "id": "5taOLYJoek2V",
        "outputId": "c0547dd8-20bd-4e7b-e797-1f7170af5a2b"
      },
      "execution_count": null,
      "outputs": [
        {
          "output_type": "stream",
          "name": "stderr",
          "text": [
            "/usr/local/lib/python3.10/dist-packages/keras/src/engine/training.py:3103: UserWarning: You are saving your model as an HDF5 file via `model.save()`. This file format is considered legacy. We recommend using instead the native Keras format, e.g. `model.save('my_model.keras')`.\n",
            "  saving_api.save_model(\n"
          ]
        }
      ]
    },
    {
      "cell_type": "code",
      "source": [
        "import os\n",
        "import numpy as np\n",
        "import tensorflow as tf\n",
        "from tensorflow.keras.preprocessing.image import img_to_array, load_img\n",
        "Categories = ['Caterpillar', 'Diabrotica speciosa', 'Healthy']\n",
        "\n",
        "# Load the saved model\n",
        "model = tf.keras.models.load_model('/content/trained_model.h5')\n",
        "\n",
        "# Load and preprocess the new image\n",
        "url = '/content/healthy (1).jpg'\n",
        "img = load_img(url, target_size=(50, 50))\n",
        "img_array = img_to_array(img)\n",
        "img_array = np.expand_dims(img_array, axis=0) / 255.0\n",
        "\n",
        "# Make predictions\n",
        "predictions = model.predict(img_array)\n",
        "\n",
        "# Get the predicted class\n",
        "predicted_class_index = np.argmax(predictions)\n",
        "predicted_class = Categories[predicted_class_index]\n",
        "confidence = predictions[0][predicted_class_index]\n",
        "\n",
        "print(f\"The predicted image is: {predicted_class} with confidence: {confidence * 100}%\")\n"
      ],
      "metadata": {
        "colab": {
          "base_uri": "https://localhost:8080/"
        },
        "id": "n-NkLP9mgvDB",
        "outputId": "eb8cd966-8028-4177-b563-a786335d9633"
      },
      "execution_count": null,
      "outputs": [
        {
          "output_type": "stream",
          "name": "stdout",
          "text": [
            "1/1 [==============================] - 0s 77ms/step\n",
            "The predicted class is: Healthy with confidence: 99.33176040649414%\n"
          ]
        }
      ]
    },
    {
      "cell_type": "code",
      "source": [],
      "metadata": {
        "id": "Ug3Ko71Bkgtq"
      },
      "execution_count": null,
      "outputs": []
    }
  ]
}